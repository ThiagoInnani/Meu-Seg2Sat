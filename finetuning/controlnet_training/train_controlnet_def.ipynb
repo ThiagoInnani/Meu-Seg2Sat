{
 "cells": [
  {
   "attachments": {},
   "cell_type": "markdown",
   "metadata": {
    "colab_type": "text",
    "id": "view-in-github"
   },
   "source": [
    "<a href=\"https://colab.research.google.com/github/RubenGres/AerialDreams/blob/main/train_controlnet.ipynb\" target=\"_parent\"><img src=\"https://colab.research.google.com/assets/colab-badge.svg\" alt=\"Open In Colab\"/></a>"
   ]
  },
  {
   "attachments": {},
   "cell_type": "markdown",
   "metadata": {
    "id": "9Vdqw31cmopr"
   },
   "source": [
    "---\n"
   ]
  },
  {
   "cell_type": "code",
   "execution_count": 1,
   "metadata": {
    "id": "oW0aON-wnQuP"
   },
   "outputs": [
    {
     "name": "stdout",
     "output_type": "stream",
     "text": [
      "Configuration already exists at /home/innani/.cache/huggingface/accelerate/default_config.yaml, will not override. Run `accelerate config` manually or pass a different `save_location`.\n"
     ]
    },
    {
     "name": "stderr",
     "output_type": "stream",
     "text": [
      "/home/innani/miniconda3/envs/Seg2Sat-Training/lib/python3.9/site-packages/tqdm/auto.py:21: TqdmWarning: IProgress not found. Please update jupyter and ipywidgets. See https://ipywidgets.readthedocs.io/en/stable/user_install.html\n",
      "  from .autonotebook import tqdm as notebook_tqdm\n"
     ]
    },
    {
     "data": {
      "text/plain": [
       "False"
      ]
     },
     "execution_count": 1,
     "metadata": {},
     "output_type": "execute_result"
    }
   ],
   "source": [
    "from accelerate.utils import write_basic_config\n",
    "write_basic_config()"
   ]
  },
  {
   "cell_type": "code",
   "execution_count": 2,
   "metadata": {
    "id": "0LdL6k96Pw39"
   },
   "outputs": [
    {
     "name": "stdout",
     "output_type": "stream",
     "text": [
      "Carregando configurações para o fine-tuning local...\n",
      "✅ Configuração concluída e variáveis carregadas.\n"
     ]
    }
   ],
   "source": [
    "# ==============================================================================\n",
    "#           CÉLULA DE CONFIGURAÇÃO FINAL\n",
    "# ==============================================================================\n",
    "print(\"Carregando configurações para o fine-tuning local...\")\n",
    "\n",
    "# 1. Definição dos Modelos Base\n",
    "SD_MODEL = \"stabilityai/stable-diffusion-2-1-base\"\n",
    "CONTROLNET_MODEL = \"rgres/Seg2Sat-sd-controlnet\"\n",
    "\n",
    "# 2. Definição do Dataset e Saída\n",
    "# ATUALIZADO com o nome da sua pasta: 'pinus_dataset'\n",
    "DATASET_DIR = \"../../pinus_dataset\"  # O caminho relativo de 'finetuning/controlnet_training/' para a raiz e depois para 'pinus_dataset'.\n",
    "MODEL_OUT = \"model_pinus_finetuned\"\n",
    "\n",
    "# 3. Nomes das Colunas do Dataset\n",
    "IMG_COL = \"image\"\n",
    "CONDITIONING_IMG_COL = \"conditioning_image\"\n",
    "CAPTION_COL = \"prompt\"\n",
    "\n",
    "# 4. Parâmetros de Treinamento\n",
    "LEARNING_RATE = 1e-5\n",
    "BATCH_SIZE = 1\n",
    "EPOCHS = 150\n",
    "CKPT_STEPS = 200\n",
    "\n",
    "# 5. Nome do Projeto para Monitoramento\n",
    "PROJECT_NAME = \"seg2sat-pinus-finetune\"\n",
    "\n",
    "print(\"✅ Configuração concluída e variáveis carregadas.\")"
   ]
  },
  {
   "cell_type": "code",
   "execution_count": 3,
   "metadata": {
    "id": "JEtNa4Y3mYfX"
   },
   "outputs": [
    {
     "name": "stdout",
     "output_type": "stream",
     "text": [
      "Preparando o arquivo metadata.jsonl a partir do seu metadata.csv...\n",
      "✅ Arquivo metadata.jsonl recriado com a chave 'file_name' em '../../pinus_dataset/'\n"
     ]
    }
   ],
   "source": [
    "# ==============================================================================\n",
    "#           CÉLULA DE PREPARAÇÃO E EXECUÇÃO FINAL (VERSÃO FINALÍSSIMA)\n",
    "# ==============================================================================\n",
    "import pandas as pd\n",
    "import json\n",
    "import os\n",
    "\n",
    "print(\"Preparando o arquivo metadata.jsonl a partir do seu metadata.csv...\")\n",
    "# Carrega o seu CSV\n",
    "df = pd.read_csv(f'{DATASET_DIR}/metadata.csv')\n",
    "\n",
    "# Cria o arquivo metadata.jsonl, que é o formato ideal para o script de treino\n",
    "with open(f'{DATASET_DIR}/metadata.jsonl', 'w') as f:\n",
    "    for index, row in df.iterrows():\n",
    "        # Gera o nome do arquivo da máscara a partir do nome do arquivo da imagem\n",
    "        mask_filename = os.path.splitext(row['filename'])[0] + '.png'\n",
    "        \n",
    "        # Cria o registro no formato JSON com os nomes de coluna corretos\n",
    "        record = {\n",
    "            \"file_name\": f\"images/{row['filename']}\", # <-- ADICIONADO: A chave 'file_name' que estava faltando\n",
    "            IMG_COL: f\"images/{row['filename']}\",\n",
    "            CONDITIONING_IMG_COL: f\"masks/{mask_filename}\",\n",
    "            CAPTION_COL: row['prompt']\n",
    "        }\n",
    "        f.write(json.dumps(record) + '\\n')\n",
    "        \n",
    "print(f\"✅ Arquivo metadata.jsonl recriado com a chave 'file_name' em '{DATASET_DIR}/'\")"
   ]
  },
  {
   "cell_type": "code",
   "execution_count": 6,
   "metadata": {},
   "outputs": [
    {
     "name": "stdout",
     "output_type": "stream",
     "text": [
      "-----------------------------------------\n",
      "✅ Comando de treinamento pronto para ser executado:\n",
      "accelerate launch train_controlnet.py  --pretrained_model_name_or_path=\"stabilityai/stable-diffusion-2-1-base\"  --controlnet_model_name_or_path=\"rgres/Seg2Sat-sd-controlnet\"  --train_data_dir=\"../../pinus_dataset\"  --output_dir=\"model_pinus_finetuned\"  --conditioning_image_column=\"conditioning_image\"  --image_column=\"image\"  --caption_column=\"prompt\"  --resolution=512  --learning_rate=1e-05  --train_batch_size=1  --num_train_epochs=150  --tracker_project_name=\"seg2sat-pinus-finetune\"  --enable_xformers_memory_efficient_attention  --checkpointing_steps=200  --report_to=\"tensorboard\"\n",
      "\n",
      "-----------------------------------------\n"
     ]
    }
   ],
   "source": [
    "# Constrói o comando final para o accelerate\n",
    "cmd = f\"\"\"accelerate launch train_controlnet.py \\\n",
    " --pretrained_model_name_or_path=\"{SD_MODEL}\" \\\n",
    " --controlnet_model_name_or_path=\"{CONTROLNET_MODEL}\" \\\n",
    " --train_data_dir=\"{DATASET_DIR}\" \\\n",
    " --output_dir=\"{MODEL_OUT}\" \\\n",
    " --conditioning_image_column=\"{CONDITIONING_IMG_COL}\" \\\n",
    " --image_column=\"{IMG_COL}\" \\\n",
    " --caption_column=\"{CAPTION_COL}\" \\\n",
    " --resolution=512 \\\n",
    " --learning_rate={LEARNING_RATE} \\\n",
    " --train_batch_size={BATCH_SIZE} \\\n",
    " --num_train_epochs={EPOCHS} \\\n",
    " --tracker_project_name=\"{PROJECT_NAME}\" \\\n",
    " --enable_xformers_memory_efficient_attention \\\n",
    " --checkpointing_steps={CKPT_STEPS} \\\n",
    " --report_to=\"tensorboard\"\n",
    "\"\"\"\n",
    "\n",
    "print(\"-----------------------------------------\")\n",
    "print(\"✅ Comando de treinamento pronto para ser executado:\")\n",
    "print(cmd)\n",
    "print(\"-----------------------------------------\")\n"
   ]
  },
  {
   "cell_type": "code",
   "execution_count": 4,
   "metadata": {},
   "outputs": [
    {
     "name": "stdout",
     "output_type": "stream",
     "text": [
      "-----------------------------------------\n",
      "✅ Comando para CONTINUAR o treinamento a partir do checkpoint 'latest':\n",
      "accelerate launch train_controlnet.py  --pretrained_model_name_or_path=\"stabilityai/stable-diffusion-2-1-base\"  --controlnet_model_name_or_path=\"rgres/Seg2Sat-sd-controlnet\"  --train_data_dir=\"../../pinus_dataset\"  --output_dir=\"model_pinus_finetuned\"  --conditioning_image_column=\"conditioning_image\"  --image_column=\"image\"  --caption_column=\"prompt\"  --resolution=512  --learning_rate=1e-05  --train_batch_size=1  --num_train_epochs=150  --tracker_project_name=\"seg2sat-pinus-finetune\"  --enable_xformers_memory_efficient_attention  --checkpointing_steps=200  --report_to=\"tensorboard\"  --resume_from_checkpoint=\"latest\"\n",
      "\n",
      "-----------------------------------------\n"
     ]
    }
   ],
   "source": [
    "# ==============================================================================\n",
    "#           VERSÃO DO COMANDO PARA CONTINUAR O TREINAMENTO\n",
    "# ==============================================================================\n",
    "\n",
    "# Defina o nome do checkpoint a partir do qual você quer continuar\n",
    "# Pode ser um número específico ou \"latest\" para o mais recente\n",
    "checkpoint_para_continuar = \"latest\" \n",
    "\n",
    "cmd = f\"\"\"accelerate launch train_controlnet.py \\\n",
    " --pretrained_model_name_or_path=\"{SD_MODEL}\" \\\n",
    " --controlnet_model_name_or_path=\"{CONTROLNET_MODEL}\" \\\n",
    " --train_data_dir=\"{DATASET_DIR}\" \\\n",
    " --output_dir=\"{MODEL_OUT}\" \\\n",
    " --conditioning_image_column=\"{CONDITIONING_IMG_COL}\" \\\n",
    " --image_column=\"{IMG_COL}\" \\\n",
    " --caption_column=\"{CAPTION_COL}\" \\\n",
    " --resolution=512 \\\n",
    " --learning_rate={LEARNING_RATE} \\\n",
    " --train_batch_size={BATCH_SIZE} \\\n",
    " --num_train_epochs={EPOCHS} \\\n",
    " --tracker_project_name=\"{PROJECT_NAME}\" \\\n",
    " --enable_xformers_memory_efficient_attention \\\n",
    " --checkpointing_steps={CKPT_STEPS} \\\n",
    " --report_to=\"tensorboard\" \\\n",
    " --resume_from_checkpoint=\"{checkpoint_para_continuar}\"\n",
    "\"\"\"\n",
    "# A linha acima foi adicionada. O valor \"latest\" instrui o accelerate a encontrar\n",
    "# automaticamente o último checkpoint salvo na pasta de saída.\n",
    "\n",
    "print(\"-----------------------------------------\")\n",
    "print(f\"✅ Comando para CONTINUAR o treinamento a partir do checkpoint '{checkpoint_para_continuar}':\")\n",
    "print(cmd)\n",
    "print(\"-----------------------------------------\")"
   ]
  },
  {
   "cell_type": "code",
   "execution_count": 7,
   "metadata": {
    "id": "aH7XJ9htcINy"
   },
   "outputs": [
    {
     "name": "stdout",
     "output_type": "stream",
     "text": [
      "ipex flag is deprecated, will be removed in Accelerate v1.10. From 2.7.0, PyTorch has all needed optimizations for Intel CPU and XPU.\n",
      "07/04/2025 13:50:36 - INFO - __main__ - Distributed environment: NO\n",
      "Num processes: 1\n",
      "Process index: 0\n",
      "Local process index: 0\n",
      "Device: cuda\n",
      "\n",
      "Mixed precision type: fp16\n",
      "\n",
      "You are using a model of type clip_text_model to instantiate a model of type . This is not supported for all configurations of models and can yield errors.\n",
      "{'dynamic_thresholding_ratio', 'sample_max_value', 'rescale_betas_zero_snr', 'thresholding', 'variance_type', 'clip_sample_range', 'timestep_spacing'} was not found in config. Values will be initialized to default values.\n",
      "{'latents_std', 'mid_block_add_attention', 'use_quant_conv', 'latents_mean', 'shift_factor', 'force_upcast', 'use_post_quant_conv', 'scaling_factor'} was not found in config. Values will be initialized to default values.\n",
      "All model checkpoint weights were used when initializing AutoencoderKL.\n",
      "\n",
      "All the weights of AutoencoderKL were initialized from the model checkpoint at stabilityai/stable-diffusion-2-1-base.\n",
      "If your task is similar to the task the model of the checkpoint was trained on, you can already use AutoencoderKL for predictions without further training.\n",
      "{'time_embedding_act_fn', 'time_embedding_dim', 'class_embeddings_concat', 'addition_embed_type', 'resnet_time_scale_shift', 'reverse_transformer_layers_per_block', 'resnet_skip_time_act', 'mid_block_only_cross_attention', 'attention_type', 'encoder_hid_dim_type', 'timestep_post_act', 'transformer_layers_per_block', 'time_cond_proj_dim', 'resnet_out_scale_factor', 'encoder_hid_dim', 'addition_time_embed_dim', 'upcast_attention', 'time_embedding_type', 'cross_attention_norm', 'projection_class_embeddings_input_dim', 'mid_block_type', 'dropout', 'conv_in_kernel', 'addition_embed_type_num_heads', 'conv_out_kernel', 'num_attention_heads', 'class_embed_type'} was not found in config. Values will be initialized to default values.\n",
      "All model checkpoint weights were used when initializing UNet2DConditionModel.\n",
      "\n",
      "All the weights of UNet2DConditionModel were initialized from the model checkpoint at stabilityai/stable-diffusion-2-1-base.\n",
      "If your task is similar to the task the model of the checkpoint was trained on, you can already use UNet2DConditionModel for predictions without further training.\n",
      "07/04/2025 13:50:39 - INFO - __main__ - Loading existing controlnet weights\n",
      "{'addition_embed_type', 'addition_embed_type_num_heads', 'num_attention_heads', 'transformer_layers_per_block', 'conditioning_channels', 'encoder_hid_dim', 'encoder_hid_dim_type', 'addition_time_embed_dim', 'mid_block_type'} was not found in config. Values will be initialized to default values.\n",
      "All model checkpoint weights were used when initializing ControlNetModel.\n",
      "\n",
      "All the weights of ControlNetModel were initialized from the model checkpoint at rgres/Seg2Sat-sd-controlnet.\n",
      "If your task is similar to the task the model of the checkpoint was trained on, you can already use ControlNetModel for predictions without further training.\n",
      "Resolving data files: 100%|█████████████████| 59/59 [00:00<00:00, 103325.23it/s]\n",
      "07/04/2025 13:51:06 - INFO - __main__ - ***** Running training *****\n",
      "07/04/2025 13:51:06 - INFO - __main__ -   Num examples = 29\n",
      "07/04/2025 13:51:06 - INFO - __main__ -   Num batches each epoch = 29\n",
      "07/04/2025 13:51:06 - INFO - __main__ -   Num Epochs = 150\n",
      "07/04/2025 13:51:06 - INFO - __main__ -   Instantaneous batch size per device = 1\n",
      "07/04/2025 13:51:06 - INFO - __main__ -   Total train batch size (w. parallel, distributed & accumulation) = 1\n",
      "07/04/2025 13:51:06 - INFO - __main__ -   Gradient Accumulation steps = 1\n",
      "07/04/2025 13:51:06 - INFO - __main__ -   Total optimization steps = 4350\n",
      "Steps:   5%|▍         | 200/4350 [02:36<52:48,  1.31it/s, loss=0.00975, lr=1e-5]07/04/2025 13:53:42 - INFO - accelerate.accelerator - Saving current state to model_pinus_finetuned/checkpoint-200\n",
      "Configuration saved in model_pinus_finetuned/checkpoint-200/controlnet/config.json\n",
      "Model weights saved in model_pinus_finetuned/checkpoint-200/controlnet/diffusion_pytorch_model.safetensors\n",
      "07/04/2025 13:54:15 - INFO - accelerate.checkpointing - Optimizer state saved in model_pinus_finetuned/checkpoint-200/optimizer.bin\n",
      "07/04/2025 13:54:15 - INFO - accelerate.checkpointing - Scheduler state saved in model_pinus_finetuned/checkpoint-200/scheduler.bin\n",
      "07/04/2025 13:54:15 - INFO - accelerate.checkpointing - Sampler state for dataloader 0 saved in model_pinus_finetuned/checkpoint-200/sampler.bin\n",
      "07/04/2025 13:54:15 - INFO - accelerate.checkpointing - Gradient scaler state saved in model_pinus_finetuned/checkpoint-200/scaler.pt\n",
      "07/04/2025 13:54:15 - INFO - accelerate.checkpointing - Random states saved in model_pinus_finetuned/checkpoint-200/random_states_0.pkl\n",
      "07/04/2025 13:54:15 - INFO - __main__ - Saved state to model_pinus_finetuned/checkpoint-200\n",
      "Steps:   9%|█          | 400/4350 [05:51<50:28,  1.30it/s, loss=0.0328, lr=1e-5]07/04/2025 13:56:58 - INFO - accelerate.accelerator - Saving current state to model_pinus_finetuned/checkpoint-400\n",
      "Configuration saved in model_pinus_finetuned/checkpoint-400/controlnet/config.json\n",
      "Model weights saved in model_pinus_finetuned/checkpoint-400/controlnet/diffusion_pytorch_model.safetensors\n",
      "07/04/2025 13:57:28 - INFO - accelerate.checkpointing - Optimizer state saved in model_pinus_finetuned/checkpoint-400/optimizer.bin\n",
      "07/04/2025 13:57:28 - INFO - accelerate.checkpointing - Scheduler state saved in model_pinus_finetuned/checkpoint-400/scheduler.bin\n",
      "07/04/2025 13:57:28 - INFO - accelerate.checkpointing - Sampler state for dataloader 0 saved in model_pinus_finetuned/checkpoint-400/sampler.bin\n",
      "07/04/2025 13:57:28 - INFO - accelerate.checkpointing - Gradient scaler state saved in model_pinus_finetuned/checkpoint-400/scaler.pt\n",
      "07/04/2025 13:57:28 - INFO - accelerate.checkpointing - Random states saved in model_pinus_finetuned/checkpoint-400/random_states_0.pkl\n",
      "07/04/2025 13:57:28 - INFO - __main__ - Saved state to model_pinus_finetuned/checkpoint-400\n",
      "Steps:  14%|█▌         | 600/4350 [09:07<49:39,  1.26it/s, loss=0.0224, lr=1e-5]07/04/2025 14:00:13 - INFO - accelerate.accelerator - Saving current state to model_pinus_finetuned/checkpoint-600\n",
      "Configuration saved in model_pinus_finetuned/checkpoint-600/controlnet/config.json\n",
      "Model weights saved in model_pinus_finetuned/checkpoint-600/controlnet/diffusion_pytorch_model.safetensors\n",
      "07/04/2025 14:00:46 - INFO - accelerate.checkpointing - Optimizer state saved in model_pinus_finetuned/checkpoint-600/optimizer.bin\n",
      "07/04/2025 14:00:46 - INFO - accelerate.checkpointing - Scheduler state saved in model_pinus_finetuned/checkpoint-600/scheduler.bin\n",
      "07/04/2025 14:00:46 - INFO - accelerate.checkpointing - Sampler state for dataloader 0 saved in model_pinus_finetuned/checkpoint-600/sampler.bin\n",
      "07/04/2025 14:00:46 - INFO - accelerate.checkpointing - Gradient scaler state saved in model_pinus_finetuned/checkpoint-600/scaler.pt\n",
      "07/04/2025 14:00:46 - INFO - accelerate.checkpointing - Random states saved in model_pinus_finetuned/checkpoint-600/random_states_0.pkl\n",
      "07/04/2025 14:00:46 - INFO - __main__ - Saved state to model_pinus_finetuned/checkpoint-600\n",
      "Steps:  18%|██         | 800/4350 [12:22<45:03,  1.31it/s, loss=0.0279, lr=1e-5]07/04/2025 14:03:29 - INFO - accelerate.accelerator - Saving current state to model_pinus_finetuned/checkpoint-800\n",
      "Configuration saved in model_pinus_finetuned/checkpoint-800/controlnet/config.json\n",
      "Model weights saved in model_pinus_finetuned/checkpoint-800/controlnet/diffusion_pytorch_model.safetensors\n",
      "07/04/2025 14:04:00 - INFO - accelerate.checkpointing - Optimizer state saved in model_pinus_finetuned/checkpoint-800/optimizer.bin\n",
      "07/04/2025 14:04:00 - INFO - accelerate.checkpointing - Scheduler state saved in model_pinus_finetuned/checkpoint-800/scheduler.bin\n",
      "07/04/2025 14:04:00 - INFO - accelerate.checkpointing - Sampler state for dataloader 0 saved in model_pinus_finetuned/checkpoint-800/sampler.bin\n",
      "07/04/2025 14:04:00 - INFO - accelerate.checkpointing - Gradient scaler state saved in model_pinus_finetuned/checkpoint-800/scaler.pt\n",
      "07/04/2025 14:04:00 - INFO - accelerate.checkpointing - Random states saved in model_pinus_finetuned/checkpoint-800/random_states_0.pkl\n",
      "07/04/2025 14:04:00 - INFO - __main__ - Saved state to model_pinus_finetuned/checkpoint-800\n",
      "Steps:  23%|██▎       | 1000/4350 [15:30<42:31,  1.31it/s, loss=0.0304, lr=1e-5]07/04/2025 14:06:36 - INFO - accelerate.accelerator - Saving current state to model_pinus_finetuned/checkpoint-1000\n",
      "Configuration saved in model_pinus_finetuned/checkpoint-1000/controlnet/config.json\n",
      "Model weights saved in model_pinus_finetuned/checkpoint-1000/controlnet/diffusion_pytorch_model.safetensors\n",
      "07/04/2025 14:07:11 - INFO - accelerate.checkpointing - Optimizer state saved in model_pinus_finetuned/checkpoint-1000/optimizer.bin\n",
      "07/04/2025 14:07:11 - INFO - accelerate.checkpointing - Scheduler state saved in model_pinus_finetuned/checkpoint-1000/scheduler.bin\n",
      "07/04/2025 14:07:11 - INFO - accelerate.checkpointing - Sampler state for dataloader 0 saved in model_pinus_finetuned/checkpoint-1000/sampler.bin\n",
      "07/04/2025 14:07:11 - INFO - accelerate.checkpointing - Gradient scaler state saved in model_pinus_finetuned/checkpoint-1000/scaler.pt\n",
      "07/04/2025 14:07:11 - INFO - accelerate.checkpointing - Random states saved in model_pinus_finetuned/checkpoint-1000/random_states_0.pkl\n",
      "07/04/2025 14:07:11 - INFO - __main__ - Saved state to model_pinus_finetuned/checkpoint-1000\n",
      "Steps:  28%|██▊       | 1200/4350 [18:44<40:05,  1.31it/s, loss=0.0136, lr=1e-5]07/04/2025 14:09:50 - INFO - accelerate.accelerator - Saving current state to model_pinus_finetuned/checkpoint-1200\n",
      "Configuration saved in model_pinus_finetuned/checkpoint-1200/controlnet/config.json\n",
      "Model weights saved in model_pinus_finetuned/checkpoint-1200/controlnet/diffusion_pytorch_model.safetensors\n",
      "07/04/2025 14:10:20 - INFO - accelerate.checkpointing - Optimizer state saved in model_pinus_finetuned/checkpoint-1200/optimizer.bin\n",
      "07/04/2025 14:10:20 - INFO - accelerate.checkpointing - Scheduler state saved in model_pinus_finetuned/checkpoint-1200/scheduler.bin\n",
      "07/04/2025 14:10:20 - INFO - accelerate.checkpointing - Sampler state for dataloader 0 saved in model_pinus_finetuned/checkpoint-1200/sampler.bin\n",
      "07/04/2025 14:10:20 - INFO - accelerate.checkpointing - Gradient scaler state saved in model_pinus_finetuned/checkpoint-1200/scaler.pt\n",
      "07/04/2025 14:10:20 - INFO - accelerate.checkpointing - Random states saved in model_pinus_finetuned/checkpoint-1200/random_states_0.pkl\n",
      "07/04/2025 14:10:20 - INFO - __main__ - Saved state to model_pinus_finetuned/checkpoint-1200\n",
      "Steps:  32%|███▌       | 1400/4350 [21:51<37:58,  1.29it/s, loss=0.389, lr=1e-5]07/04/2025 14:12:57 - INFO - accelerate.accelerator - Saving current state to model_pinus_finetuned/checkpoint-1400\n",
      "Configuration saved in model_pinus_finetuned/checkpoint-1400/controlnet/config.json\n",
      "Model weights saved in model_pinus_finetuned/checkpoint-1400/controlnet/diffusion_pytorch_model.safetensors\n",
      "07/04/2025 14:13:27 - INFO - accelerate.checkpointing - Optimizer state saved in model_pinus_finetuned/checkpoint-1400/optimizer.bin\n",
      "07/04/2025 14:13:27 - INFO - accelerate.checkpointing - Scheduler state saved in model_pinus_finetuned/checkpoint-1400/scheduler.bin\n",
      "07/04/2025 14:13:27 - INFO - accelerate.checkpointing - Sampler state for dataloader 0 saved in model_pinus_finetuned/checkpoint-1400/sampler.bin\n",
      "07/04/2025 14:13:27 - INFO - accelerate.checkpointing - Gradient scaler state saved in model_pinus_finetuned/checkpoint-1400/scaler.pt\n",
      "07/04/2025 14:13:27 - INFO - accelerate.checkpointing - Random states saved in model_pinus_finetuned/checkpoint-1400/random_states_0.pkl\n",
      "07/04/2025 14:13:27 - INFO - __main__ - Saved state to model_pinus_finetuned/checkpoint-1400\n",
      "Steps:  37%|███▎     | 1600/4350 [25:18<35:44,  1.28it/s, loss=0.00252, lr=1e-5]07/04/2025 14:16:24 - INFO - accelerate.accelerator - Saving current state to model_pinus_finetuned/checkpoint-1600\n",
      "Configuration saved in model_pinus_finetuned/checkpoint-1600/controlnet/config.json\n",
      "Model weights saved in model_pinus_finetuned/checkpoint-1600/controlnet/diffusion_pytorch_model.safetensors\n",
      "07/04/2025 14:16:52 - INFO - accelerate.checkpointing - Optimizer state saved in model_pinus_finetuned/checkpoint-1600/optimizer.bin\n",
      "07/04/2025 14:16:52 - INFO - accelerate.checkpointing - Scheduler state saved in model_pinus_finetuned/checkpoint-1600/scheduler.bin\n",
      "07/04/2025 14:16:52 - INFO - accelerate.checkpointing - Sampler state for dataloader 0 saved in model_pinus_finetuned/checkpoint-1600/sampler.bin\n",
      "07/04/2025 14:16:52 - INFO - accelerate.checkpointing - Gradient scaler state saved in model_pinus_finetuned/checkpoint-1600/scaler.pt\n",
      "07/04/2025 14:16:52 - INFO - accelerate.checkpointing - Random states saved in model_pinus_finetuned/checkpoint-1600/random_states_0.pkl\n",
      "07/04/2025 14:16:52 - INFO - __main__ - Saved state to model_pinus_finetuned/checkpoint-1600\n",
      "Steps:  41%|████▏     | 1800/4350 [28:22<34:15,  1.24it/s, loss=0.0226, lr=1e-5]07/04/2025 14:19:29 - INFO - accelerate.accelerator - Saving current state to model_pinus_finetuned/checkpoint-1800\n",
      "Configuration saved in model_pinus_finetuned/checkpoint-1800/controlnet/config.json\n",
      "Model weights saved in model_pinus_finetuned/checkpoint-1800/controlnet/diffusion_pytorch_model.safetensors\n",
      "07/04/2025 14:19:58 - INFO - accelerate.checkpointing - Optimizer state saved in model_pinus_finetuned/checkpoint-1800/optimizer.bin\n",
      "07/04/2025 14:19:58 - INFO - accelerate.checkpointing - Scheduler state saved in model_pinus_finetuned/checkpoint-1800/scheduler.bin\n",
      "07/04/2025 14:19:58 - INFO - accelerate.checkpointing - Sampler state for dataloader 0 saved in model_pinus_finetuned/checkpoint-1800/sampler.bin\n",
      "07/04/2025 14:19:58 - INFO - accelerate.checkpointing - Gradient scaler state saved in model_pinus_finetuned/checkpoint-1800/scaler.pt\n",
      "07/04/2025 14:19:58 - INFO - accelerate.checkpointing - Random states saved in model_pinus_finetuned/checkpoint-1800/random_states_0.pkl\n",
      "07/04/2025 14:19:58 - INFO - __main__ - Saved state to model_pinus_finetuned/checkpoint-1800\n",
      "Steps:  46%|████▌     | 2000/4350 [31:29<29:37,  1.32it/s, loss=0.0109, lr=1e-5]07/04/2025 14:22:36 - INFO - accelerate.accelerator - Saving current state to model_pinus_finetuned/checkpoint-2000\n",
      "Configuration saved in model_pinus_finetuned/checkpoint-2000/controlnet/config.json\n",
      "Model weights saved in model_pinus_finetuned/checkpoint-2000/controlnet/diffusion_pytorch_model.safetensors\n",
      "07/04/2025 14:23:08 - INFO - accelerate.checkpointing - Optimizer state saved in model_pinus_finetuned/checkpoint-2000/optimizer.bin\n",
      "07/04/2025 14:23:08 - INFO - accelerate.checkpointing - Scheduler state saved in model_pinus_finetuned/checkpoint-2000/scheduler.bin\n",
      "07/04/2025 14:23:08 - INFO - accelerate.checkpointing - Sampler state for dataloader 0 saved in model_pinus_finetuned/checkpoint-2000/sampler.bin\n",
      "07/04/2025 14:23:08 - INFO - accelerate.checkpointing - Gradient scaler state saved in model_pinus_finetuned/checkpoint-2000/scaler.pt\n",
      "07/04/2025 14:23:08 - INFO - accelerate.checkpointing - Random states saved in model_pinus_finetuned/checkpoint-2000/random_states_0.pkl\n",
      "07/04/2025 14:23:08 - INFO - __main__ - Saved state to model_pinus_finetuned/checkpoint-2000\n",
      "Steps:  51%|████▌    | 2200/4350 [34:46<29:24,  1.22it/s, loss=0.00784, lr=1e-5]07/04/2025 14:25:52 - INFO - accelerate.accelerator - Saving current state to model_pinus_finetuned/checkpoint-2200\n",
      "Configuration saved in model_pinus_finetuned/checkpoint-2200/controlnet/config.json\n",
      "Model weights saved in model_pinus_finetuned/checkpoint-2200/controlnet/diffusion_pytorch_model.safetensors\n",
      "07/04/2025 14:26:23 - INFO - accelerate.checkpointing - Optimizer state saved in model_pinus_finetuned/checkpoint-2200/optimizer.bin\n",
      "07/04/2025 14:26:23 - INFO - accelerate.checkpointing - Scheduler state saved in model_pinus_finetuned/checkpoint-2200/scheduler.bin\n",
      "07/04/2025 14:26:23 - INFO - accelerate.checkpointing - Sampler state for dataloader 0 saved in model_pinus_finetuned/checkpoint-2200/sampler.bin\n",
      "07/04/2025 14:26:23 - INFO - accelerate.checkpointing - Gradient scaler state saved in model_pinus_finetuned/checkpoint-2200/scaler.pt\n",
      "07/04/2025 14:26:23 - INFO - accelerate.checkpointing - Random states saved in model_pinus_finetuned/checkpoint-2200/random_states_0.pkl\n",
      "07/04/2025 14:26:23 - INFO - __main__ - Saved state to model_pinus_finetuned/checkpoint-2200\n",
      "Steps:  55%|█████▌    | 2400/4350 [37:57<24:51,  1.31it/s, loss=0.0965, lr=1e-5]07/04/2025 14:29:03 - INFO - accelerate.accelerator - Saving current state to model_pinus_finetuned/checkpoint-2400\n",
      "Configuration saved in model_pinus_finetuned/checkpoint-2400/controlnet/config.json\n",
      "Model weights saved in model_pinus_finetuned/checkpoint-2400/controlnet/diffusion_pytorch_model.safetensors\n",
      "07/04/2025 14:29:34 - INFO - accelerate.checkpointing - Optimizer state saved in model_pinus_finetuned/checkpoint-2400/optimizer.bin\n",
      "07/04/2025 14:29:34 - INFO - accelerate.checkpointing - Scheduler state saved in model_pinus_finetuned/checkpoint-2400/scheduler.bin\n",
      "07/04/2025 14:29:34 - INFO - accelerate.checkpointing - Sampler state for dataloader 0 saved in model_pinus_finetuned/checkpoint-2400/sampler.bin\n",
      "07/04/2025 14:29:34 - INFO - accelerate.checkpointing - Gradient scaler state saved in model_pinus_finetuned/checkpoint-2400/scaler.pt\n",
      "07/04/2025 14:29:34 - INFO - accelerate.checkpointing - Random states saved in model_pinus_finetuned/checkpoint-2400/random_states_0.pkl\n",
      "07/04/2025 14:29:34 - INFO - __main__ - Saved state to model_pinus_finetuned/checkpoint-2400\n",
      "Steps:  60%|██████▌    | 2600/4350 [41:06<23:21,  1.25it/s, loss=0.036, lr=1e-5]07/04/2025 14:32:12 - INFO - accelerate.accelerator - Saving current state to model_pinus_finetuned/checkpoint-2600\n",
      "Configuration saved in model_pinus_finetuned/checkpoint-2600/controlnet/config.json\n",
      "Model weights saved in model_pinus_finetuned/checkpoint-2600/controlnet/diffusion_pytorch_model.safetensors\n",
      "07/04/2025 14:32:43 - INFO - accelerate.checkpointing - Optimizer state saved in model_pinus_finetuned/checkpoint-2600/optimizer.bin\n",
      "07/04/2025 14:32:43 - INFO - accelerate.checkpointing - Scheduler state saved in model_pinus_finetuned/checkpoint-2600/scheduler.bin\n",
      "07/04/2025 14:32:43 - INFO - accelerate.checkpointing - Sampler state for dataloader 0 saved in model_pinus_finetuned/checkpoint-2600/sampler.bin\n",
      "07/04/2025 14:32:43 - INFO - accelerate.checkpointing - Gradient scaler state saved in model_pinus_finetuned/checkpoint-2600/scaler.pt\n",
      "07/04/2025 14:32:43 - INFO - accelerate.checkpointing - Random states saved in model_pinus_finetuned/checkpoint-2600/random_states_0.pkl\n",
      "07/04/2025 14:32:43 - INFO - __main__ - Saved state to model_pinus_finetuned/checkpoint-2600\n",
      "Steps:  64%|██████▍   | 2800/4350 [44:23<20:05,  1.29it/s, loss=0.0113, lr=1e-5]07/04/2025 14:35:29 - INFO - accelerate.accelerator - Saving current state to model_pinus_finetuned/checkpoint-2800\n",
      "Configuration saved in model_pinus_finetuned/checkpoint-2800/controlnet/config.json\n",
      "Model weights saved in model_pinus_finetuned/checkpoint-2800/controlnet/diffusion_pytorch_model.safetensors\n",
      "07/04/2025 14:36:00 - INFO - accelerate.checkpointing - Optimizer state saved in model_pinus_finetuned/checkpoint-2800/optimizer.bin\n",
      "07/04/2025 14:36:00 - INFO - accelerate.checkpointing - Scheduler state saved in model_pinus_finetuned/checkpoint-2800/scheduler.bin\n",
      "07/04/2025 14:36:00 - INFO - accelerate.checkpointing - Sampler state for dataloader 0 saved in model_pinus_finetuned/checkpoint-2800/sampler.bin\n",
      "07/04/2025 14:36:00 - INFO - accelerate.checkpointing - Gradient scaler state saved in model_pinus_finetuned/checkpoint-2800/scaler.pt\n",
      "07/04/2025 14:36:00 - INFO - accelerate.checkpointing - Random states saved in model_pinus_finetuned/checkpoint-2800/random_states_0.pkl\n",
      "07/04/2025 14:36:00 - INFO - __main__ - Saved state to model_pinus_finetuned/checkpoint-2800\n",
      "Steps:  69%|████████▉    | 3000/4350 [47:34<17:35,  1.28it/s, loss=0.5, lr=1e-5]07/04/2025 14:38:40 - INFO - accelerate.accelerator - Saving current state to model_pinus_finetuned/checkpoint-3000\n",
      "Configuration saved in model_pinus_finetuned/checkpoint-3000/controlnet/config.json\n",
      "Model weights saved in model_pinus_finetuned/checkpoint-3000/controlnet/diffusion_pytorch_model.safetensors\n",
      "07/04/2025 14:39:09 - INFO - accelerate.checkpointing - Optimizer state saved in model_pinus_finetuned/checkpoint-3000/optimizer.bin\n",
      "07/04/2025 14:39:10 - INFO - accelerate.checkpointing - Scheduler state saved in model_pinus_finetuned/checkpoint-3000/scheduler.bin\n",
      "07/04/2025 14:39:10 - INFO - accelerate.checkpointing - Sampler state for dataloader 0 saved in model_pinus_finetuned/checkpoint-3000/sampler.bin\n",
      "07/04/2025 14:39:10 - INFO - accelerate.checkpointing - Gradient scaler state saved in model_pinus_finetuned/checkpoint-3000/scaler.pt\n",
      "07/04/2025 14:39:10 - INFO - accelerate.checkpointing - Random states saved in model_pinus_finetuned/checkpoint-3000/random_states_0.pkl\n",
      "07/04/2025 14:39:10 - INFO - __main__ - Saved state to model_pinus_finetuned/checkpoint-3000\n",
      "Steps:  74%|████████   | 3200/4350 [50:47<15:19,  1.25it/s, loss=0.176, lr=1e-5]07/04/2025 14:41:54 - INFO - accelerate.accelerator - Saving current state to model_pinus_finetuned/checkpoint-3200\n",
      "Configuration saved in model_pinus_finetuned/checkpoint-3200/controlnet/config.json\n",
      "Model weights saved in model_pinus_finetuned/checkpoint-3200/controlnet/diffusion_pytorch_model.safetensors\n",
      "07/04/2025 14:42:26 - INFO - accelerate.checkpointing - Optimizer state saved in model_pinus_finetuned/checkpoint-3200/optimizer.bin\n",
      "07/04/2025 14:42:26 - INFO - accelerate.checkpointing - Scheduler state saved in model_pinus_finetuned/checkpoint-3200/scheduler.bin\n",
      "07/04/2025 14:42:26 - INFO - accelerate.checkpointing - Sampler state for dataloader 0 saved in model_pinus_finetuned/checkpoint-3200/sampler.bin\n",
      "07/04/2025 14:42:26 - INFO - accelerate.checkpointing - Gradient scaler state saved in model_pinus_finetuned/checkpoint-3200/scaler.pt\n",
      "07/04/2025 14:42:26 - INFO - accelerate.checkpointing - Random states saved in model_pinus_finetuned/checkpoint-3200/random_states_0.pkl\n",
      "07/04/2025 14:42:26 - INFO - __main__ - Saved state to model_pinus_finetuned/checkpoint-3200\n",
      "Steps:  78%|████████▌  | 3400/4350 [54:06<13:03,  1.21it/s, loss=0.184, lr=1e-5]07/04/2025 14:45:12 - INFO - accelerate.accelerator - Saving current state to model_pinus_finetuned/checkpoint-3400\n",
      "Configuration saved in model_pinus_finetuned/checkpoint-3400/controlnet/config.json\n",
      "Model weights saved in model_pinus_finetuned/checkpoint-3400/controlnet/diffusion_pytorch_model.safetensors\n",
      "07/04/2025 14:45:41 - INFO - accelerate.checkpointing - Optimizer state saved in model_pinus_finetuned/checkpoint-3400/optimizer.bin\n",
      "07/04/2025 14:45:41 - INFO - accelerate.checkpointing - Scheduler state saved in model_pinus_finetuned/checkpoint-3400/scheduler.bin\n",
      "07/04/2025 14:45:41 - INFO - accelerate.checkpointing - Sampler state for dataloader 0 saved in model_pinus_finetuned/checkpoint-3400/sampler.bin\n",
      "07/04/2025 14:45:41 - INFO - accelerate.checkpointing - Gradient scaler state saved in model_pinus_finetuned/checkpoint-3400/scaler.pt\n",
      "07/04/2025 14:45:41 - INFO - accelerate.checkpointing - Random states saved in model_pinus_finetuned/checkpoint-3400/random_states_0.pkl\n",
      "07/04/2025 14:45:41 - INFO - __main__ - Saved state to model_pinus_finetuned/checkpoint-3400\n",
      "Steps:  83%|█████████▉  | 3600/4350 [57:32<10:15,  1.22it/s, loss=0.19, lr=1e-5]07/04/2025 14:48:38 - INFO - accelerate.accelerator - Saving current state to model_pinus_finetuned/checkpoint-3600\n",
      "Configuration saved in model_pinus_finetuned/checkpoint-3600/controlnet/config.json\n",
      "Model weights saved in model_pinus_finetuned/checkpoint-3600/controlnet/diffusion_pytorch_model.safetensors\n",
      "07/04/2025 14:49:16 - INFO - accelerate.checkpointing - Optimizer state saved in model_pinus_finetuned/checkpoint-3600/optimizer.bin\n",
      "07/04/2025 14:49:16 - INFO - accelerate.checkpointing - Scheduler state saved in model_pinus_finetuned/checkpoint-3600/scheduler.bin\n",
      "07/04/2025 14:49:16 - INFO - accelerate.checkpointing - Sampler state for dataloader 0 saved in model_pinus_finetuned/checkpoint-3600/sampler.bin\n",
      "07/04/2025 14:49:16 - INFO - accelerate.checkpointing - Gradient scaler state saved in model_pinus_finetuned/checkpoint-3600/scaler.pt\n",
      "07/04/2025 14:49:16 - INFO - accelerate.checkpointing - Random states saved in model_pinus_finetuned/checkpoint-3600/random_states_0.pkl\n",
      "07/04/2025 14:49:16 - INFO - __main__ - Saved state to model_pinus_finetuned/checkpoint-3600\n",
      "Steps:  87%|██████▉ | 3800/4350 [1:01:01<07:29,  1.22it/s, loss=0.0859, lr=1e-5]07/04/2025 14:52:07 - INFO - accelerate.accelerator - Saving current state to model_pinus_finetuned/checkpoint-3800\n",
      "Configuration saved in model_pinus_finetuned/checkpoint-3800/controlnet/config.json\n",
      "Model weights saved in model_pinus_finetuned/checkpoint-3800/controlnet/diffusion_pytorch_model.safetensors\n",
      "07/04/2025 14:52:41 - INFO - accelerate.checkpointing - Optimizer state saved in model_pinus_finetuned/checkpoint-3800/optimizer.bin\n",
      "07/04/2025 14:52:41 - INFO - accelerate.checkpointing - Scheduler state saved in model_pinus_finetuned/checkpoint-3800/scheduler.bin\n",
      "07/04/2025 14:52:41 - INFO - accelerate.checkpointing - Sampler state for dataloader 0 saved in model_pinus_finetuned/checkpoint-3800/sampler.bin\n",
      "07/04/2025 14:52:41 - INFO - accelerate.checkpointing - Gradient scaler state saved in model_pinus_finetuned/checkpoint-3800/scaler.pt\n",
      "07/04/2025 14:52:41 - INFO - accelerate.checkpointing - Random states saved in model_pinus_finetuned/checkpoint-3800/random_states_0.pkl\n",
      "07/04/2025 14:52:41 - INFO - __main__ - Saved state to model_pinus_finetuned/checkpoint-3800\n",
      "Steps:  92%|███████▎| 4000/4350 [1:04:17<04:53,  1.19it/s, loss=0.0107, lr=1e-5]07/04/2025 14:55:23 - INFO - accelerate.accelerator - Saving current state to model_pinus_finetuned/checkpoint-4000\n",
      "Configuration saved in model_pinus_finetuned/checkpoint-4000/controlnet/config.json\n",
      "Model weights saved in model_pinus_finetuned/checkpoint-4000/controlnet/diffusion_pytorch_model.safetensors\n",
      "07/04/2025 14:55:54 - INFO - accelerate.checkpointing - Optimizer state saved in model_pinus_finetuned/checkpoint-4000/optimizer.bin\n",
      "07/04/2025 14:55:54 - INFO - accelerate.checkpointing - Scheduler state saved in model_pinus_finetuned/checkpoint-4000/scheduler.bin\n",
      "07/04/2025 14:55:54 - INFO - accelerate.checkpointing - Sampler state for dataloader 0 saved in model_pinus_finetuned/checkpoint-4000/sampler.bin\n",
      "07/04/2025 14:55:54 - INFO - accelerate.checkpointing - Gradient scaler state saved in model_pinus_finetuned/checkpoint-4000/scaler.pt\n",
      "07/04/2025 14:55:54 - INFO - accelerate.checkpointing - Random states saved in model_pinus_finetuned/checkpoint-4000/random_states_0.pkl\n",
      "07/04/2025 14:55:54 - INFO - __main__ - Saved state to model_pinus_finetuned/checkpoint-4000\n",
      "Steps:  97%|██████▊| 4200/4350 [1:07:28<02:02,  1.23it/s, loss=0.00228, lr=1e-5]07/04/2025 14:58:35 - INFO - accelerate.accelerator - Saving current state to model_pinus_finetuned/checkpoint-4200\n",
      "Configuration saved in model_pinus_finetuned/checkpoint-4200/controlnet/config.json\n",
      "Model weights saved in model_pinus_finetuned/checkpoint-4200/controlnet/diffusion_pytorch_model.safetensors\n",
      "07/04/2025 14:59:03 - INFO - accelerate.checkpointing - Optimizer state saved in model_pinus_finetuned/checkpoint-4200/optimizer.bin\n",
      "07/04/2025 14:59:03 - INFO - accelerate.checkpointing - Scheduler state saved in model_pinus_finetuned/checkpoint-4200/scheduler.bin\n",
      "07/04/2025 14:59:03 - INFO - accelerate.checkpointing - Sampler state for dataloader 0 saved in model_pinus_finetuned/checkpoint-4200/sampler.bin\n",
      "07/04/2025 14:59:03 - INFO - accelerate.checkpointing - Gradient scaler state saved in model_pinus_finetuned/checkpoint-4200/scaler.pt\n",
      "07/04/2025 14:59:03 - INFO - accelerate.checkpointing - Random states saved in model_pinus_finetuned/checkpoint-4200/random_states_0.pkl\n",
      "07/04/2025 14:59:03 - INFO - __main__ - Saved state to model_pinus_finetuned/checkpoint-4200\n",
      "Steps: 100%|███████| 4350/4350 [1:09:59<00:00,  1.29it/s, loss=0.00465, lr=1e-5]Configuration saved in model_pinus_finetuned/config.json\n",
      "Model weights saved in model_pinus_finetuned/diffusion_pytorch_model.safetensors\n",
      "Steps: 100%|███████| 4350/4350 [1:10:11<00:00,  1.03it/s, loss=0.00465, lr=1e-5]\n"
     ]
    }
   ],
   "source": [
    "# Execute esta célula para iniciar o fine-tuning!\n",
    "!{cmd}"
   ]
  }
 ],
 "metadata": {
  "accelerator": "GPU",
  "colab": {
   "include_colab_link": true,
   "provenance": []
  },
  "gpuClass": "standard",
  "kernelspec": {
   "display_name": "Python 3 (ipykernel)",
   "language": "python",
   "name": "python3"
  },
  "language_info": {
   "codemirror_mode": {
    "name": "ipython",
    "version": 3
   },
   "file_extension": ".py",
   "mimetype": "text/x-python",
   "name": "python",
   "nbconvert_exporter": "python",
   "pygments_lexer": "ipython3",
   "version": "3.9.23"
  }
 },
 "nbformat": 4,
 "nbformat_minor": 4
}
