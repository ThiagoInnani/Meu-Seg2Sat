{
  "cells": [
    {
      "attachments": {},
      "cell_type": "markdown",
      "metadata": {
        "colab_type": "text",
        "id": "view-in-github"
      },
      "source": [
        "<a href=\"https://colab.research.google.com/github/RubenGres/Seg2Sat/blob/main/ui/launch_full_interface.ipynb\" target=\"_parent\"><img src=\"https://colab.research.google.com/assets/colab-badge.svg\" alt=\"Open In Colab\"/></a>"
      ]
    },
    {
      "cell_type": "code",
      "execution_count": null,
      "metadata": {
        "id": "hsn_87UXrUn5"
      },
      "outputs": [],
      "source": [
        "!git clone https://github.com/RubenGres/Drawing2Map-hfspace.git\n",
        "%cd Drawing2Map-hfspace/ui"
      ]
    },
    {
      "cell_type": "code",
      "execution_count": null,
      "metadata": {
        "id": "uVUasUqwr_Br"
      },
      "outputs": [],
      "source": [
        "!pip install -r requirements.txt\n",
        "!npm install -g localtunnel"
      ]
    },
    {
      "cell_type": "code",
      "execution_count": null,
      "metadata": {
        "id": "9OIMlcM9OQWk"
      },
      "outputs": [],
      "source": [
        "!export URL_GRADIO='http://localhost:7860'"
      ]
    },
    {
      "cell_type": "code",
      "execution_count": null,
      "metadata": {
        "id": "yhLLdro5s-rf"
      },
      "outputs": [],
      "source": [
        "!echo \" \"\n",
        "!echo \"Click the next link and when prompted enter:\"\n",
        "!curl ipv4.icanhazip.com\n",
        "!echo \" \"\n",
        "!lt --port 8000 & make run-prod"
      ]
    },
    {
      "cell_type": "code",
      "execution_count": null,
      "metadata": {
        "colab": {
          "base_uri": "https://localhost:8080/"
        },
        "id": "G2USPEr_4YOm",
        "outputId": "36de5b2b-0cf7-410b-a225-2869138e5523"
      },
      "outputs": [
        {
          "name": "stdout",
          "output_type": "stream",
          "text": [
            "killall python\n",
            "python: no process found\n",
            "make: *** [Makefile:20: stop-server] Error 1\n"
          ]
        }
      ],
      "source": [
        "!make stop-server"
      ]
    }
  ],
  "metadata": {
    "accelerator": "GPU",
    "colab": {
      "include_colab_link": true,
      "provenance": []
    },
    "gpuClass": "standard",
    "kernelspec": {
      "display_name": "Python 3",
      "language": "python",
      "name": "python3"
    },
    "language_info": {
      "name": "python",
      "version": "3.8.10"
    },
    "vscode": {
      "interpreter": {
        "hash": "e7370f93d1d0cde622a1f8e1c04877d8463912d04d973331ad4851f04de6915a"
      }
    }
  },
  "nbformat": 4,
  "nbformat_minor": 0
}
