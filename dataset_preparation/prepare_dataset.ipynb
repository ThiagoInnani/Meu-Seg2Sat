{
  "nbformat": 4,
  "nbformat_minor": 0,
  "metadata": {
    "colab": {
      "provenance": [],
      "authorship_tag": "ABX9TyM6h/b8YS5EoWFH1dMFzXY4",
      "include_colab_link": true
    },
    "kernelspec": {
      "name": "python3",
      "display_name": "Python 3"
    },
    "language_info": {
      "name": "python"
    }
  },
  "cells": [
    {
      "cell_type": "markdown",
      "metadata": {
        "id": "view-in-github",
        "colab_type": "text"
      },
      "source": [
        "<a href=\"https://colab.research.google.com/github/RubenGres/AerialDreams/blob/main/prepare_dataset.ipynb\" target=\"_parent\"><img src=\"https://colab.research.google.com/assets/colab-badge.svg\" alt=\"Open In Colab\"/></a>"
      ]
    },
    {
      "cell_type": "code",
      "source": [
        "import glob"
      ],
      "metadata": {
        "id": "vNBfMWhQlGGo"
      },
      "execution_count": 1,
      "outputs": []
    },
    {
      "cell_type": "code",
      "source": [
        "aerial_tif = glob.glob(\"flair_1_toy_aerial_test/*/*/img/*.tif\")\n",
        "mask_tif = glob.glob(\"flair_1_toy_labels_test/*/*/msk/*.tif\")"
      ],
      "metadata": {
        "id": "pq-MnLbUlJUj"
      },
      "execution_count": 2,
      "outputs": []
    },
    {
      "cell_type": "code",
      "source": [
        "from osgeo import gdal\n",
        "import numpy as np\n",
        "from PIL import Image\n",
        "\n",
        "def convert_image(input_path, output_path):\n",
        "    input_tif = gdal.Open(input_path)\n",
        "    rgb_data = np.zeros((input_tif.RasterYSize, input_tif.RasterXSize, 3), dtype=np.uint8)\n",
        "\n",
        "    for i in range(3):\n",
        "        rgb_data[..., i] = input_tif.GetRasterBand(i+1).ReadAsArray()\n",
        "\n",
        "    # Close input TIFF file\n",
        "    input_tif = None\n",
        "\n",
        "    img = Image.fromarray(rgb_data)\n",
        "    img.save(output_path)"
      ],
      "metadata": {
        "id": "UZ1v93kZphsH"
      },
      "execution_count": 3,
      "outputs": []
    },
    {
      "cell_type": "code",
      "source": [
        "import json\n",
        "f = open('/content/flair-1_metadata_aerial.json', 'r')\n",
        "metadata = json.load(f)"
      ],
      "metadata": {
        "id": "tuwG5jrtqTPA"
      },
      "execution_count": 4,
      "outputs": []
    },
    {
      "cell_type": "code",
      "source": [
        "meta = metadata[\"IMG_063104\"]\n",
        "!python AerialDreams/scripts/get_metadata.py /content/flair_1_toy_lables_test/D012_2019/Z13_AA/msk/IMG_062871.tif tkt.json \"{meta}\""
      ],
      "metadata": {
        "colab": {
          "base_uri": "https://localhost:8080/"
        },
        "id": "mI9hCMtMs-7p",
        "outputId": "36fa6a8b-523e-440d-d5bb-4d727562c1ac"
      },
      "execution_count": 7,
      "outputs": [
        {
          "output_type": "stream",
          "name": "stdout",
          "text": [
            "{'place_id': 124129123, 'licence': 'Data © OpenStreetMap contributors, ODbL 1.0. https://osm.org/copyright', 'osm_type': 'way', 'osm_id': 80715917, 'lat': '44.05644378518927', 'lon': '3.2112661215780682', 'display_name': 'Millau, Aveyron, Occitanie, France métropolitaine, 12100, France', 'address': {'town': 'Millau', 'municipality': 'Millau', 'county': 'Aveyron', 'ISO3166-2-lvl6': 'FR-12', 'state': 'Occitanie', 'ISO3166-2-lvl4': 'FR-OCC', 'region': 'France métropolitaine', 'postcode': '12100', 'country': 'France', 'country_code': 'fr'}, 'boundingbox': ['44.0500761', '44.0572029', '3.2002776', '3.2289643']}\n"
          ]
        }
      ]
    },
    {
      "cell_type": "code",
      "source": [
        "import os\n",
        "from tqdm import tqdm\n",
        "\n",
        "dataset_path = 'dataset'\n",
        "\n",
        "for img, msk in tqdm(zip(aerial_tif, mask_tif)):\n",
        "  basename = os.path.basename(img)\n",
        "  filename_img = os.path.basename(img).split('.')[0]\n",
        "  filename_msk = os.path.basename(msk).split('.')[0]\n",
        "  number = filename_img.split('_')[1]\n",
        "\n",
        "  folder = number[0:3]\n",
        "\n",
        "  base_dir = f\"{dataset_path}/{folder}/{number}\"\n",
        "\n",
        "  os.makedirs(base_dir, exist_ok = True)\n",
        "\n",
        "  mask_out = f\"{base_dir}/{filename_msk}.png\"\n",
        "  image_out = f\"{base_dir}/{filename_img}.png\"\n",
        "  json_out = f\"{base_dir}/{number}.json\"\n",
        "  percentages_out = f\"{base_dir}/PCT_{number}.json\"\n",
        "\n",
        "  meta = metadata[filename_img]\n",
        "\n",
        "  convert_image(img, image_out)\n",
        "  !python AerialDreams/scripts/get_image_segmentation.py {msk} {mask_out}\n",
        "  !python AerialDreams/scripts/get_metadata.py {img} {json_out} \"{meta}\"\n",
        "  !python AerialDreams/scripts/get_classes_percentages.py {mask_out} {percentages_out}"
      ],
      "metadata": {
        "colab": {
          "base_uri": "https://localhost:8080/"
        },
        "id": "i-R6U5eBmi7D",
        "outputId": "58b958b4-c552-40db-9103-7815c0810edf"
      },
      "execution_count": 8,
      "outputs": [
        {
          "output_type": "stream",
          "name": "stdout",
          "text": [
            "{'place_id': 129975463, 'licence': 'Data © OpenStreetMap contributors, ODbL 1.0. https://osm.org/copyright', 'osm_type': 'way', 'osm_id': 108791591, 'lat': '44.9041083', 'lon': '4.8807118', 'display_name': 'Valence, Drôme, Auvergne-Rhône-Alpes, France métropolitaine, 26000, France', 'address': {'city': 'Valence', 'municipality': 'Valence', 'county': 'Drôme', 'ISO3166-2-lvl6': 'FR-26', 'state': 'Auvergne-Rhône-Alpes', 'ISO3166-2-lvl4': 'FR-ARA', 'region': 'France métropolitaine', 'postcode': '26000', 'country': 'France', 'country_code': 'fr'}, 'boundingbox': ['44.9036907', '44.9041358', '4.8785763', '4.8807118']}\n"
          ]
        },
        {
          "output_type": "stream",
          "name": "stderr",
          "text": [
            "\r45it [02:53,  3.92s/it]"
          ]
        },
        {
          "output_type": "stream",
          "name": "stdout",
          "text": [
            "{'place_id': 115169603, 'licence': 'Data © OpenStreetMap contributors, ODbL 1.0. https://osm.org/copyright', 'osm_type': 'way', 'osm_id': 37796013, 'lat': '43.47210058152163', 'lon': '-1.5656145474840815', 'display_name': 'Rue Georges Hennebutte, Lapurdi, Biarritz, Bayonne, Pyrénées-Atlantiques, Nouvelle-Aquitaine, France métropolitaine, 64200, France', 'address': {'road': 'Rue Georges Hennebutte', 'subdivision': 'Lapurdi', 'town': 'Biarritz', 'municipality': 'Bayonne', 'county': 'Pyrénées-Atlantiques', 'ISO3166-2-lvl6': 'FR-64', 'state': 'Nouvelle-Aquitaine', 'ISO3166-2-lvl4': 'FR-NAQ', 'region': 'France métropolitaine', 'postcode': '64200', 'country': 'France', 'country_code': 'fr'}, 'boundingbox': ['43.4720084', '43.4729632', '-1.5665961', '-1.5643931']}\n"
          ]
        },
        {
          "output_type": "stream",
          "name": "stderr",
          "text": [
            "\r46it [02:57,  3.95s/it]"
          ]
        },
        {
          "output_type": "stream",
          "name": "stdout",
          "text": [
            "{'place_id': 338839110, 'licence': 'Data © OpenStreetMap contributors, ODbL 1.0. https://osm.org/copyright', 'osm_type': 'node', 'osm_id': 9918886373, 'lat': '43.5236884', 'lon': '-1.5037859', 'display_name': \"Maison Bicicletta, Avenue de l'Adour, Lapurdi, Brise Lames, Anglet, Bayonne, Pyrénées-Atlantiques, Nouvelle-Aquitaine, France métropolitaine, 64600, France\", 'address': {'shop': 'Maison Bicicletta', 'road': \"Avenue de l'Adour\", 'subdivision': 'Lapurdi', 'suburb': 'Brise Lames', 'town': 'Anglet', 'municipality': 'Bayonne', 'county': 'Pyrénées-Atlantiques', 'ISO3166-2-lvl6': 'FR-64', 'state': 'Nouvelle-Aquitaine', 'ISO3166-2-lvl4': 'FR-NAQ', 'region': 'France métropolitaine', 'postcode': '64600', 'country': 'France', 'country_code': 'fr'}, 'boundingbox': ['43.5236384', '43.5237384', '-1.5038359', '-1.5037359']}\n"
          ]
        },
        {
          "output_type": "stream",
          "name": "stderr",
          "text": [
            "\r47it [03:01,  3.81s/it]"
          ]
        },
        {
          "output_type": "stream",
          "name": "stdout",
          "text": [
            "{'place_id': 296903952, 'licence': 'Data © OpenStreetMap contributors, ODbL 1.0. https://osm.org/copyright', 'osm_type': 'way', 'osm_id': 1069200444, 'lat': '43.38399123410534', 'lon': '-0.6086980772900925', 'display_name': 'Mourenx, Pau, Pyrénées-Atlantiques, Nouvelle-Aquitaine, France métropolitaine, 64150, France', 'address': {'village': 'Mourenx', 'municipality': 'Pau', 'county': 'Pyrénées-Atlantiques', 'ISO3166-2-lvl6': 'FR-64', 'state': 'Nouvelle-Aquitaine', 'ISO3166-2-lvl4': 'FR-NAQ', 'region': 'France métropolitaine', 'postcode': '64150', 'country': 'France', 'country_code': 'fr'}, 'boundingbox': ['43.3838711', '43.385021', '-0.6095357', '-0.6085694']}\n"
          ]
        },
        {
          "output_type": "stream",
          "name": "stderr",
          "text": [
            "\r48it [03:04,  3.71s/it]"
          ]
        },
        {
          "output_type": "stream",
          "name": "stdout",
          "text": [
            "{'place_id': 123688214, 'licence': 'Data © OpenStreetMap contributors, ODbL 1.0. https://osm.org/copyright', 'osm_type': 'way', 'osm_id': 75837685, 'lat': '42.808883159717375', 'lon': '-0.5581442411076705', 'display_name': \"Piste de la Cabane d'Anglus, Borce, Oloron-Sainte-Marie, Pyrénées-Atlantiques, Nouvelle-Aquitaine, France métropolitaine, 64490, France\", 'address': {'road': \"Piste de la Cabane d'Anglus\", 'village': 'Borce', 'municipality': 'Oloron-Sainte-Marie', 'county': 'Pyrénées-Atlantiques', 'ISO3166-2-lvl6': 'FR-64', 'state': 'Nouvelle-Aquitaine', 'ISO3166-2-lvl4': 'FR-NAQ', 'region': 'France métropolitaine', 'postcode': '64490', 'country': 'France', 'country_code': 'fr'}, 'boundingbox': ['42.8080474', '42.8112745', '-0.5620035', '-0.557372']}\n"
          ]
        },
        {
          "output_type": "stream",
          "name": "stderr",
          "text": [
            "\r49it [03:09,  4.03s/it]"
          ]
        },
        {
          "output_type": "stream",
          "name": "stdout",
          "text": [
            "{'place_id': 85078176, 'licence': 'Data © OpenStreetMap contributors, ODbL 1.0. https://osm.org/copyright', 'osm_type': 'node', 'osm_id': 8483571797, 'lat': '43.2867479', 'lon': '-0.3564063', 'display_name': \"29, Avenue de l'Yser, Bizanos, Pau, Pyrénées-Atlantiques, Nouvelle-Aquitaine, France métropolitaine, 64320, France\", 'address': {'house_number': '29', 'road': \"Avenue de l'Yser\", 'village': 'Bizanos', 'municipality': 'Pau', 'county': 'Pyrénées-Atlantiques', 'ISO3166-2-lvl6': 'FR-64', 'state': 'Nouvelle-Aquitaine', 'ISO3166-2-lvl4': 'FR-NAQ', 'region': 'France métropolitaine', 'postcode': '64320', 'country': 'France', 'country_code': 'fr'}, 'boundingbox': ['43.2866979', '43.2867979', '-0.3564563', '-0.3563563']}\n"
          ]
        },
        {
          "output_type": "stream",
          "name": "stderr",
          "text": [
            "50it [03:12,  3.86s/it]\n"
          ]
        }
      ]
    }
  ]
}