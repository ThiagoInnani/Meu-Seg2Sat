{
 "cells": [
  {
   "attachments": {},
   "cell_type": "markdown",
   "metadata": {},
   "source": [
    "# About this notebook\n",
    "\n",
    "This notebook aims to prepare the FLAIR dataset for training a ControlNet model to generate fake satellite images of territories. This notebook converts the TIF images into a more useable format and query the OSM database to get georaphical information about a given image.\n",
    "\n",
    "##### Limitations\n",
    "\n",
    "The FLAIR dataset covers France only, this will introduce a biais in the learned terrain representation. https://ignf.github.io/FLAIR/"
   ]
  },
  {
   "attachments": {},
   "cell_type": "markdown",
   "metadata": {},
   "source": [
    "### 1. Imports"
   ]
  },
  {
   "cell_type": "code",
   "execution_count": 4,
   "metadata": {},
   "outputs": [],
   "source": [
    "from tqdm import tqdm\n",
    "\n",
    "import os\n",
    "from glob import glob\n",
    "import json\n",
    "from osgeo import gdal, osr\n",
    "import numpy as np\n",
    "from pyproj import CRS, Transformer\n",
    "from PIL import Image\n",
    "import requests"
   ]
  },
  {
   "attachments": {},
   "cell_type": "markdown",
   "metadata": {},
   "source": [
    "### 2. Function definitions"
   ]
  },
  {
   "cell_type": "code",
   "execution_count": 5,
   "metadata": {},
   "outputs": [],
   "source": [
    "LUT = [\n",
    "    {\"color\": \"#db0e9a\", \"class\": \"building\"},\n",
    "    {\"color\": \"#938e7b\", \"class\": \"pervious surface\"},\n",
    "    {\"color\": \"#f80c00\", \"class\": \"impervious surface\"},\n",
    "    {\"color\": \"#a97101\", \"class\": \"bare soil\"},\n",
    "    {\"color\": \"#1553ae\", \"class\": \"water\"},\n",
    "    {\"color\": \"#194a26\", \"class\": \"coniferous\"},\n",
    "    {\"color\": \"#46e483\", \"class\": \"deciduous\"},\n",
    "    {\"color\": \"#f3a60d\", \"class\": \"brushwood\"},\n",
    "    {\"color\": \"#660082\", \"class\": \"vineyard\"},\n",
    "    {\"color\": \"#55ff00\", \"class\": \"herbaceous vegetation\"},\n",
    "    {\"color\": \"#fff30d\", \"class\": \"agricultural land\"},\n",
    "    {\"color\": \"#e4df7c\", \"class\": \"plowed land\"},\n",
    "    {\"color\": \"#3de6eb\", \"class\": \"swimming pool\"},\n",
    "    {\"color\": \"#ffffff\", \"class\": \"snow\"},\n",
    "    {\"color\": \"#8ab3a0\", \"class\": \"clear cut\"},\n",
    "    {\"color\": \"#6b714f\", \"class\": \"mixed\"},\n",
    "    {\"color\": \"#c5dc42\", \"class\": \"ligneous\"},\n",
    "    {\"color\": \"#9999ff\", \"class\": \"greenhouse\"},\n",
    "    {\"color\": \"#000000\", \"class\": \"other\"}\n",
    "]"
   ]
  },
  {
   "cell_type": "code",
   "execution_count": 6,
   "metadata": {},
   "outputs": [],
   "source": [
    "def convert_to_seg(image_array, lut):\n",
    "    def hex_to_tuple(hex):\n",
    "        h = hex.lstrip('#')\n",
    "        return tuple(int(h[i:i+2], 16) for i in (0, 2, 4))\n",
    "\n",
    "    for i in range(image_array.shape[0]):\n",
    "        for j in range(image_array.shape[1]):\n",
    "            class_id = image_array[i, j][0]\n",
    "            \n",
    "            color = hex_to_tuple(lut[class_id-1][\"color\"]) if class_id < len(lut) else (0,0,0)\n",
    "\n",
    "            image_array[i, j] = color\n",
    "\n",
    "    # Convert the NumPy array back to an image and save it to a file\n",
    "    return image_array\n",
    "\n",
    "\n",
    "def get_osm_data(latlon):\n",
    "    lat, lon = latlon\n",
    "    url = f'https://nominatim.openstreetmap.org/reverse?format=json&lat={lat}&lon={lon}&zoom=18&addressdetails=1'\n",
    "    response = requests.get(url)\n",
    "    return response.json()\n",
    "\n",
    "\n",
    "def convert_to_latlon(coord, proj):\n",
    "    if not proj:\n",
    "        proj = 2154\n",
    "\n",
    "    input_crs = CRS(f\"EPSG:{proj}\")\n",
    "    wgs84_crs = CRS(\"EPSG:4326\")  # WGS 84 (latitude et longitude)\n",
    "    transformer = Transformer.from_crs(input_crs, wgs84_crs)\n",
    "    return transformer.transform(*coord)\n",
    "\n",
    "\n",
    "def convert_seg(input_path, output_path, LUT):\n",
    "    input_tif = gdal.Open(input_path)\n",
    "    rgb_data = np.zeros((input_tif.RasterYSize, input_tif.RasterXSize, 3), dtype=np.uint8)\n",
    "\n",
    "    rgb_data[..., 0] = input_tif.GetRasterBand(1).ReadAsArray()\n",
    "    rgb_data = convert_to_seg(rgb_data, LUT)\n",
    "\n",
    "    # Close input TIFF file\n",
    "    input_tif = None\n",
    "\n",
    "    img = Image.fromarray(rgb_data)\n",
    "    img.save(output_path)\n",
    "\n",
    "\n",
    "def convert_image(input_path, output_path):\n",
    "    input_tif = gdal.Open(input_path)\n",
    "    rgb_data = np.zeros((input_tif.RasterYSize, input_tif.RasterXSize, 3), dtype=np.uint8)\n",
    "\n",
    "    for i in range(3):\n",
    "        rgb_data[..., i] = input_tif.GetRasterBand(i+1).ReadAsArray()\n",
    "\n",
    "    # Close input TIFF file\n",
    "    input_tif = None\n",
    "\n",
    "    img = Image.fromarray(rgb_data)\n",
    "    img.save(output_path)\n",
    "\n",
    "\n",
    "def get_tif_metadata(input_path):\n",
    "    tif_dataset = gdal.Open(input_path)\n",
    "\n",
    "    # Get the origin, dimensions, and CRS\n",
    "    geotransform = tif_dataset.GetGeoTransform()\n",
    "    name = os.path.basename(input_path)\n",
    "    origin = (geotransform[0], geotransform[3])\n",
    "    dimensions = (tif_dataset.RasterXSize, tif_dataset.RasterYSize)\n",
    "\n",
    "    # Get the CRS\n",
    "    crs_wkt = tif_dataset.GetProjection()\n",
    "    crs = osr.SpatialReference()\n",
    "    crs.ImportFromWkt(crs_wkt)\n",
    "\n",
    "    # Get the units\n",
    "    unit_type = crs.GetLinearUnitsName()\n",
    "\n",
    "    srs = osr.SpatialReference()\n",
    "    srs.ImportFromWkt(tif_dataset.GetProjection())\n",
    "    code = srs.GetAuthorityCode(None)\n",
    "\n",
    "    latlon = convert_to_latlon(origin, code)\n",
    "\n",
    "    # Create a dictionary to store the metadata\n",
    "    metadata = {\n",
    "        \"origin\": origin,\n",
    "        \"dimensions\": dimensions,\n",
    "        \"unit_system\": unit_type,\n",
    "        \"code\": code,\n",
    "        \"latlong\": latlon   \n",
    "    } \n",
    "\n",
    "    return metadata\n",
    "\n",
    "\n",
    "def get_output_path(path, output_dir, ext):\n",
    "    basename = os.path.basename(path).split('.')[0]\n",
    "    folder = basename.split('_')[1]\n",
    "\n",
    "    if not os.path.exists(f\"{output_dir}/{folder}/\"):\n",
    "        os.mkdir(f\"{output_dir}/{folder}/\")\n",
    "\n",
    "    output_path = f\"{output_dir}/{folder}/{basename}.{ext}\"\n",
    "    \n",
    "    return output_path"
   ]
  },
  {
   "attachments": {},
   "cell_type": "markdown",
   "metadata": {},
   "source": [
    "### 3. Load image path"
   ]
  },
  {
   "cell_type": "code",
   "execution_count": 7,
   "metadata": {},
   "outputs": [],
   "source": [
    "image_folder = \"./data/flair_aerial_train\"\n",
    "output_dir = \"./data/hf_dataset\"\n",
    "metadata_path = \"./data/flair-1_metadata_aerial.json\"\n",
    "\n",
    "if not os.path.exists(output_dir):\n",
    "    os.mkdir(output_dir)"
   ]
  },
  {
   "cell_type": "code",
   "execution_count": 8,
   "metadata": {},
   "outputs": [],
   "source": [
    "def convert_path_img_to_msk(path):\n",
    "    return (\n",
    "        path\n",
    "        .replace('aerial', 'labels')\n",
    "        .replace('img', 'msk')\n",
    "        .replace('IMG', 'MSK')\n",
    "    )"
   ]
  },
  {
   "cell_type": "code",
   "execution_count": 9,
   "metadata": {},
   "outputs": [],
   "source": [
    "# get all image path\n",
    "test_tif_img = []\n",
    "\n",
    "for file_name in glob(f\"{image_folder}/*/*/img/*.tif\"):\n",
    "    test_tif_img.append(file_name)\n",
    "\n",
    "test_tif_msk = [convert_path_img_to_msk(p) for p in test_tif_img]\n",
    "\n",
    "data = dict(zip(['image', 'seg'], [test_tif_img, test_tif_msk]))"
   ]
  },
  {
   "attachments": {},
   "cell_type": "markdown",
   "metadata": {},
   "source": [
    "### 4. Data preprocessing"
   ]
  },
  {
   "cell_type": "code",
   "execution_count": 10,
   "metadata": {},
   "outputs": [
    {
     "name": "stderr",
     "output_type": "stream",
     "text": [
      "100%|██████████| 61712/61712 [3:40:59<00:00,  4.65it/s]   \n"
     ]
    }
   ],
   "source": [
    "# convert image\n",
    "images_path = data['image']\n",
    "\n",
    "for path in tqdm(images_path):\n",
    "    jpg_path = get_output_path(path, output_dir, 'png')\n",
    "    convert_image(path, jpg_path)"
   ]
  },
  {
   "cell_type": "code",
   "execution_count": 18,
   "metadata": {},
   "outputs": [
    {
     "name": "stderr",
     "output_type": "stream",
     "text": [
      "100%|██████████| 50/50 [01:19<00:00,  1.58s/it]\n"
     ]
    }
   ],
   "source": [
    "# convert seg\n",
    "seg_path = data['seg']\n",
    "\n",
    "for path in tqdm(seg_path):\n",
    "    jpg_path = get_output_path(path, output_dir, 'png')\n",
    "    convert_seg(path, jpg_path, LUT)"
   ]
  },
  {
   "cell_type": "code",
   "execution_count": 21,
   "metadata": {},
   "outputs": [
    {
     "name": "stderr",
     "output_type": "stream",
     "text": [
      "100%|██████████| 50/50 [00:49<00:00,  1.01it/s]\n"
     ]
    }
   ],
   "source": [
    "# get metadata\n",
    "images_path = data['image']\n",
    "f = open(metadata_path, 'r')\n",
    "metadata_json = json.load(f)\n",
    "\n",
    "for path in tqdm(images_path):\n",
    "    basename = os.path.basename(path).split('.')[0]\n",
    "\n",
    "    ocsge_metadata = metadata_json[basename]\n",
    "    \n",
    "    centroid = (ocsge_metadata['patch_centroid_x'], ocsge_metadata['patch_centroid_y'])\n",
    "    osm_metadata = get_osm_data(centroid)\n",
    "\n",
    "    tif_metadata = get_tif_metadata(path)\n",
    "\n",
    "    combined_metadata = tif_metadata | ocsge_metadata | osm_metadata\n",
    "\n",
    "    json_path = get_output_path(path, output_dir, 'json')\n",
    "    with open(json_path, \"w\") as fp:\n",
    "        json.dump(combined_metadata, fp)"
   ]
  },
  {
   "cell_type": "code",
   "execution_count": null,
   "metadata": {},
   "outputs": [],
   "source": []
  },
  {
   "cell_type": "code",
   "execution_count": 18,
   "metadata": {},
   "outputs": [
    {
     "data": {
      "text/plain": [
       "{'coniferous': 0.039398193359375,\n",
       " 'brushwood': 0.02703857421875,\n",
       " 'deciduous': 0.053955078125,\n",
       " 'building': 0.348846435546875,\n",
       " 'herbaceous vegetation': 0.2403564453125,\n",
       " 'impervious surface': 0.2904052734375}"
      ]
     },
     "execution_count": 18,
     "metadata": {},
     "output_type": "execute_result"
    }
   ],
   "source": [
    "from PIL import Image\n",
    "\n",
    "path = \"./data/hf_dataset/000834/MSK_000834.png\"\n",
    "def get_color_percentages(image_path, color_mapper=None):\n",
    "    # Open image and convert to RGB mode\n",
    "    with Image.open(image_path).convert(\"RGB\") as image:\n",
    "        # Get a list of (count, color) tuples\n",
    "        color_counts = image.getcolors(image.size[0] * image.size[1])\n",
    "    \n",
    "    # Convert each (R, G, B) tuple to a hex string and store percentages in a dict\n",
    "    color_percentages = {}\n",
    "    total_pixels = sum(count for count, color in color_counts)\n",
    "    for count, (r, g, b) in color_counts:\n",
    "        hex_color = f\"#{r:02x}{g:02x}{b:02x}\"\n",
    "        \n",
    "        if color_mapper:\n",
    "            hex_color = color_mapper(hex_color)\n",
    "\n",
    "        color_percentages[hex_color] = count / total_pixels\n",
    "    \n",
    "    return color_percentages\n",
    "\n",
    "\n",
    "def color_mapper(color_code):\n",
    "    for color_dict in LUT:\n",
    "        if color_dict['color'] == color_code:\n",
    "            return color_dict['class']\n",
    "    return color_code\n",
    "  \n",
    "\n",
    "get_color_percentages(path, color_mapper)"
   ]
  }
 ],
 "metadata": {
  "kernelspec": {
   "display_name": "Python 3",
   "language": "python",
   "name": "python3"
  },
  "language_info": {
   "codemirror_mode": {
    "name": "ipython",
    "version": 3
   },
   "file_extension": ".py",
   "mimetype": "text/x-python",
   "name": "python",
   "nbconvert_exporter": "python",
   "pygments_lexer": "ipython3",
   "version": "3.9.12"
  },
  "orig_nbformat": 4,
  "vscode": {
   "interpreter": {
    "hash": "aee8b7b246df8f9039afb4144a1f6fd8d2ca17a180786b69acc140d282b71a49"
   }
  }
 },
 "nbformat": 4,
 "nbformat_minor": 2
}
