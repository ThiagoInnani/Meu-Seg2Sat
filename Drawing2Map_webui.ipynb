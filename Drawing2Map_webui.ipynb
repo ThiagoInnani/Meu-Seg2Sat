{
  "cells": [
    {
      "cell_type": "markdown",
      "metadata": {
        "id": "view-in-github",
        "colab_type": "text"
      },
      "source": [
        "<a href=\"https://colab.research.google.com/github/RubenGres/Seg2Sat/blob/main/Drawing2Map_webui.ipynb\" target=\"_parent\"><img src=\"https://colab.research.google.com/assets/colab-badge.svg\" alt=\"Open In Colab\"/></a>"
      ]
    },
    {
      "cell_type": "markdown",
      "source": [
        "# Drawing2Map\n",
        "\n",
        "This project is a [Seg2Map](https://github.com/RubenGres/Seg2Sat) gradio interface allowing you to draw directly the segmentation map and generate the corresponding image.\n",
        "\n",
        "This interface can also be used in the [dedicated Hugging Face space](https://huggingface.co/spaces/rgres/Seg2Sat), but I'll be the one to pay for the GPU time :'(\n",
        "\n",
        "<br><br>\n",
        "\n",
        "<center>\n",
        "  <img src=\"https://raw.githubusercontent.com/RubenGres/Seg2Sat/main/images/webui_example.png\" height=500px />\n",
        "\n",
        "  **To start the interface just run the cell below and follow the instructions**\n",
        "\n",
        "</center>"
      ],
      "metadata": {
        "id": "7Spy0jwf2Fg5"
      }
    },
    {
      "cell_type": "code",
      "execution_count": null,
      "metadata": {
        "id": "hsn_87UXrUn5"
      },
      "outputs": [],
      "source": [
        "!git clone https://github.com/RubenGres/Seg2Sat\n",
        "!pip install -r requirements.txt\n",
        "!npm install -g localtunnel\n",
        "\n",
        "%cd Seg2Sat/ui\n",
        "\n",
        "!export URL_GRADIO='http://localhost:7860'\n",
        "\n",
        "!echo \" \"\n",
        "!echo \"Click the next link and when prompted enter:\"\n",
        "!curl ipv4.icanhazip.com\n",
        "!echo \" \"\n",
        "!lt --port 8000 & make run-prod"
      ]
    },
    {
      "cell_type": "code",
      "execution_count": null,
      "metadata": {
        "id": "uVUasUqwr_Br"
      },
      "outputs": [],
      "source": [
        "!make stop-server"
      ]
    }
  ],
  "metadata": {
    "accelerator": "GPU",
    "colab": {
      "provenance": [],
      "include_colab_link": true
    },
    "gpuClass": "standard",
    "kernelspec": {
      "display_name": "Python 3",
      "language": "python",
      "name": "python3"
    },
    "language_info": {
      "name": "python",
      "version": "3.8.10"
    },
    "vscode": {
      "interpreter": {
        "hash": "e7370f93d1d0cde622a1f8e1c04877d8463912d04d973331ad4851f04de6915a"
      }
    }
  },
  "nbformat": 4,
  "nbformat_minor": 0
}